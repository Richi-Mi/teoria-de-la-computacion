{
 "cells": [
  {
   "cell_type": "markdown",
   "metadata": {},
   "source": [
    "# Expresiones regulares en python.\n",
    "\n",
    "## Patrones.\n",
    "\n",
    "Los patrones de expresiones regulares son secuencias de caracteres especiales que definen reglas para buscar, extraer o manipular texto dentro de una cadena. Estos patrones utilizan metacaracteres y modificadores para especificar qué tipo de coincidencias se desean.\n",
    "\n"
   ]
  },
  {
   "cell_type": "code",
   "execution_count": null,
   "metadata": {},
   "outputs": [],
   "source": [
    "# Libreria de expresiones regulares python.\n",
    "import re \n",
    "\n",
    "# Ejemplo: Cerradura positiva.\n",
    "pattern = r'(ab)+'\n",
    "text = \"abababab\"\n",
    "\n"
   ]
  }
 ],
 "metadata": {
  "kernelspec": {
   "display_name": "Python 3",
   "language": "python",
   "name": "python3"
  },
  "language_info": {
   "name": "python",
   "version": "3.9.6"
  }
 },
 "nbformat": 4,
 "nbformat_minor": 2
}
